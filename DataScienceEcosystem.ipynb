{
 "cells": [
  {
   "cell_type": "markdown",
   "id": "0cd240aa",
   "metadata": {},
   "source": [
    "# Data Science Tools and Ecosystem"
   ]
  },
  {
   "cell_type": "markdown",
   "id": "54d679c3",
   "metadata": {},
   "source": [
    "## Author:\n",
    "\n",
    "Aaron Griffin"
   ]
  },
  {
   "cell_type": "markdown",
   "id": "d47f6f5c",
   "metadata": {},
   "source": [
    "In this notebook, the Data Science Tools and Ecosystem have been summarised. "
   ]
  },
  {
   "cell_type": "markdown",
   "id": "04342114",
   "metadata": {},
   "source": [
    "**Objectives:**\n",
    "\n",
    "- List popular languages for data science\n",
    "- List popular development tools for data science\n",
    "- Provide an introduction to and practice with git and GitHub\n",
    "- Provide an introduction to and practice with Jupyter Notebooks\n",
    "- Provide a high level catergorisation of tools for data science, both core and auxillary"
   ]
  },
  {
   "cell_type": "markdown",
   "id": "3e645f1f",
   "metadata": {},
   "source": [
    "Some of the popular languages that Data Scientists use are:\n",
    "\n",
    "1. Python\n",
    "2. R\n",
    "3. Java"
   ]
  },
  {
   "cell_type": "markdown",
   "id": "1b9b45d6",
   "metadata": {},
   "source": [
    "Some of the commonly used libraries by Data Scientists include:\n",
    "\n",
    "1. Python | matplotlib\n",
    "2. Python | numpy\n",
    "3. Python | scipy\n",
    "4. Python | pandas\n",
    "5. Python | torch\n",
    "5. R | ggplot\n",
    "6. R | plotly\n",
    "7. R | datasets\n",
    "8. R | caret"
   ]
  },
  {
   "cell_type": "markdown",
   "id": "6904f0aa",
   "metadata": {},
   "source": [
    "| Data Science Tools |\n",
    "-----------------------\n",
    "| RStudio |\n",
    "| Jetbrains DataLore | \n",
    "| Jetbrains Pycharm Community |"
   ]
  },
  {
   "cell_type": "markdown",
   "id": "cd118c2c",
   "metadata": {},
   "source": [
    "### Below are examples of arithmetic expressions in Python:\n",
    "\n",
    "$$a = 1+1$$\n",
    "$$b = 3*4$$\n",
    "$$c = (4*5) * 4$$\n",
    "$$d = 1 / 4$$\n",
    "$$e = 1 // 3$$\n",
    "$$f = 1 \\% 2$$"
   ]
  },
  {
   "cell_type": "code",
   "execution_count": 6,
   "id": "2ebfa106",
   "metadata": {},
   "outputs": [
    {
     "name": "stdout",
     "output_type": "stream",
     "text": [
      "17\n"
     ]
    }
   ],
   "source": [
    "# This cell shows integers being multiplied and, then, added together\n",
    "\n",
    "print((3*4)+5)"
   ]
  },
  {
   "cell_type": "code",
   "execution_count": 8,
   "id": "97bc7243",
   "metadata": {},
   "outputs": [
    {
     "name": "stdout",
     "output_type": "stream",
     "text": [
      "3.33\n"
     ]
    }
   ],
   "source": [
    "# This cell shows minutes being converted to hours through division by 60\n",
    "\n",
    "minutes = 200\n",
    "hours = minutes / 60\n",
    "print(f\"{hours:.2f}\")"
   ]
  }
 ],
 "metadata": {
  "kernelspec": {
   "display_name": "tools_for_ds",
   "language": "python",
   "name": "python3"
  },
  "language_info": {
   "codemirror_mode": {
    "name": "ipython",
    "version": 3
   },
   "file_extension": ".py",
   "mimetype": "text/x-python",
   "name": "python",
   "nbconvert_exporter": "python",
   "pygments_lexer": "ipython3",
   "version": "3.12.6"
  }
 },
 "nbformat": 4,
 "nbformat_minor": 5
}
