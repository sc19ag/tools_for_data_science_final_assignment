{
 "cells": [
  {
   "cell_type": "markdown",
   "id": "0cd240aa",
   "metadata": {},
   "source": [
    "# Data Science Tools and Ecosystem"
   ]
  },
  {
   "cell_type": "markdown",
   "id": "d47f6f5c",
   "metadata": {},
   "source": [
    "In this notebook, the Data Science Tools and Ecosystem have been summarised. "
   ]
  },
  {
   "cell_type": "markdown",
   "id": "3e645f1f",
   "metadata": {},
   "source": [
    "Some of the popular languages that Data Scientists use are:\n",
    "\n",
    "1. Python\n",
    "2. R\n",
    "3. Java"
   ]
  }
 ],
 "metadata": {
  "kernelspec": {
   "display_name": "tools_for_ds",
   "language": "python",
   "name": "python3"
  },
  "language_info": {
   "codemirror_mode": {
    "name": "ipython",
    "version": 3
   },
   "file_extension": ".py",
   "mimetype": "text/x-python",
   "name": "python",
   "nbconvert_exporter": "python",
   "pygments_lexer": "ipython3",
   "version": "3.12.6"
  }
 },
 "nbformat": 4,
 "nbformat_minor": 5
}
